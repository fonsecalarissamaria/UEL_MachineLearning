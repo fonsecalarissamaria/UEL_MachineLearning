{
 "cells": [
  {
   "cell_type": "markdown",
   "metadata": {},
   "source": [
    "# Carregar pacotes"
   ]
  },
  {
   "cell_type": "code",
   "execution_count": 1,
   "metadata": {},
   "outputs": [],
   "source": [
    "import os\n",
    "import pandas as pd\n",
    "import numpy as np\n",
    "from sklearn.model_selection import train_test_split, cross_val_score\n",
    "from sklearn.tree import DecisionTreeClassifier\n",
    "from sklearn.metrics import accuracy_score, classification_report\n",
    "from sklearn.preprocessing import LabelEncoder\n",
    "\n",
    "# Ajustando configuração para lidar com saídas longas\n",
    "pd.set_option('display.max_columns', None)\n",
    "pd.set_option('display.max_rows', None)\n",
    "pd.set_option('display.max_colwidth', None)\n",
    "pd.set_option('expand_frame_repr', False)\n",
    "\n",
    "# Desabilitando o truncamento: \n",
    "from IPython.core.interactiveshell import InteractiveShell\n",
    "InteractiveShell.ast_node_interactivity = \"all\""
   ]
  },
  {
   "cell_type": "markdown",
   "metadata": {},
   "source": [
    "# Carregar o conjunto de dados"
   ]
  },
  {
   "cell_type": "code",
   "execution_count": 2,
   "metadata": {},
   "outputs": [
    {
     "name": "stdout",
     "output_type": "stream",
     "text": [
      "Dados sobre o desempenho dos alunos (Matemática):\n",
      "  school sex  age address famsize Pstatus  Medu  Fedu     Mjob      Fjob  reason guardian  traveltime  studytime  failures schoolsup famsup paid activities nursery higher internet romantic  famrel  freetime  goout  Dalc  Walc  health  absences  G1  G2  G3\n",
      "0     GP   F   18       U     GT3       A     4     4  at_home   teacher  course   mother           2          2         0       yes     no   no         no     yes    yes       no       no       4         3      4     1     1       3         6   5   6   6\n",
      "1     GP   F   17       U     GT3       T     1     1  at_home     other  course   father           1          2         0        no    yes   no         no      no    yes      yes       no       5         3      3     1     1       3         4   5   5   6\n",
      "2     GP   F   15       U     LE3       T     1     1  at_home     other   other   mother           1          2         3       yes     no  yes         no     yes    yes      yes       no       4         3      2     2     3       3        10   7   8  10\n",
      "3     GP   F   15       U     GT3       T     4     2   health  services    home   mother           1          3         0        no    yes  yes        yes     yes    yes      yes      yes       3         2      2     1     1       5         2  15  14  15\n",
      "4     GP   F   16       U     GT3       T     3     3    other     other    home   father           1          2         0        no    yes  yes         no     yes    yes       no       no       4         3      2     1     2       5         4   6  10  10\n",
      "\n",
      "Dados sobre o desempenho dos alunos (Português):\n",
      "  school sex  age address famsize Pstatus  Medu  Fedu     Mjob      Fjob  reason guardian  traveltime  studytime  failures schoolsup famsup paid activities nursery higher internet romantic  famrel  freetime  goout  Dalc  Walc  health  absences  G1  G2  G3\n",
      "0     GP   F   18       U     GT3       A     4     4  at_home   teacher  course   mother           2          2         0       yes     no   no         no     yes    yes       no       no       4         3      4     1     1       3         4   0  11  11\n",
      "1     GP   F   17       U     GT3       T     1     1  at_home     other  course   father           1          2         0        no    yes   no         no      no    yes      yes       no       5         3      3     1     1       3         2   9  11  11\n",
      "2     GP   F   15       U     LE3       T     1     1  at_home     other   other   mother           1          2         0       yes     no   no         no     yes    yes      yes       no       4         3      2     2     3       3         6  12  13  12\n",
      "3     GP   F   15       U     GT3       T     4     2   health  services    home   mother           1          3         0        no    yes   no        yes     yes    yes      yes      yes       3         2      2     1     1       5         0  14  14  14\n",
      "4     GP   F   16       U     GT3       T     3     3    other     other    home   father           1          2         0        no    yes   no         no     yes    yes       no       no       4         3      2     1     2       5         0  11  13  13\n",
      "\n",
      "Dados sobre a obesidade:\n",
      "   Gender   Age  Height  Weight family_history_with_overweight FAVC  FCVC  NCP       CAEC SMOKE  CH2O  SCC  FAF  TUE        CALC                 MTRANS           NObeyesdad\n",
      "0  Female  21.0    1.62    64.0                            yes   no   2.0  3.0  Sometimes    no   2.0   no  0.0  1.0          no  Public_Transportation        Normal_Weight\n",
      "1  Female  21.0    1.52    56.0                            yes   no   3.0  3.0  Sometimes   yes   3.0  yes  3.0  0.0   Sometimes  Public_Transportation        Normal_Weight\n",
      "2    Male  23.0    1.80    77.0                            yes   no   2.0  3.0  Sometimes    no   2.0   no  2.0  1.0  Frequently  Public_Transportation        Normal_Weight\n",
      "3    Male  27.0    1.80    87.0                             no   no   3.0  3.0  Sometimes    no   2.0   no  2.0  0.0  Frequently                Walking   Overweight_Level_I\n",
      "4    Male  22.0    1.78    89.8                             no   no   2.0  1.0  Sometimes    no   2.0   no  0.0  0.0   Sometimes  Public_Transportation  Overweight_Level_II\n"
     ]
    }
   ],
   "source": [
    "# Definindo o caminho relativo dos arquivos \n",
    "data_path = os.getcwd()  # Obtém o diretório atual do notebook\n",
    "\n",
    "# Carregando os conjuntos de dados\n",
    "student_mat = pd.read_csv(os.path.join(data_path, \"student-mat.csv\"), sep=\";\")\n",
    "student_por = pd.read_csv(os.path.join(data_path, \"student-por.csv\"), sep=\";\")\n",
    "obesity_file = os.path.join(data_path, \"ObesityDataSet_raw_and_data_sinthetic.csv\")\n",
    "obesity_data = pd.read_csv(obesity_file)  \n",
    "\n",
    "# Exibindo os primeiros registros dos conjuntos de dados:\n",
    "print(\"Dados sobre o desempenho dos alunos (Matemática):\")\n",
    "print(student_mat.head())\n",
    "print(\"\\nDados sobre o desempenho dos alunos (Português):\")\n",
    "print(student_por.head())\n",
    "print(\"\\nDados sobre a obesidade:\")\n",
    "print(obesity_data.head())"
   ]
  },
  {
   "cell_type": "markdown",
   "metadata": {},
   "source": [
    "# Árvore de Decisão"
   ]
  },
  {
   "cell_type": "code",
   "execution_count": 3,
   "metadata": {},
   "outputs": [],
   "source": [
    "def evaluate_decision_tree(X, y, dataset_name):\n",
    "    print(f\"\\n--- Avaliação para o conjunto de dados: {dataset_name} ---\")\n",
    "    \n",
    "    # Divisão em treino e teste\n",
    "    X_train, X_test, y_train, y_test = train_test_split(X, y, test_size=0.3, random_state=42, stratify=y)\n",
    "    \n",
    "    # Treinamento com Árvore de Decisão\n",
    "    clf = DecisionTreeClassifier(random_state=42)\n",
    "    clf.fit(X_train, y_train)\n",
    "    \n",
    "    # Previsão nos conjuntos de treino e teste\n",
    "    y_train_pred = clf.predict(X_train)\n",
    "    y_test_pred = clf.predict(X_test)\n",
    "    \n",
    "    # Avaliação: erros e desempenho\n",
    "    train_accuracy = accuracy_score(y_train, y_train_pred)\n",
    "    test_accuracy = accuracy_score(y_test, y_test_pred)\n",
    "    \n",
    "    print(f\"Erro no conjunto de treinamento: {1 - train_accuracy:.4f}\")\n",
    "    print(f\"Erro no conjunto de teste: {1 - test_accuracy:.4f}\")\n",
    "    print(f\"Desempenho no conjunto de treinamento (Acurácia): {train_accuracy:.4f}\")\n",
    "    print(f\"Desempenho no conjunto de teste (Acurácia): {test_accuracy:.4f}\")\n",
    "    \n",
    "    # Validação cruzada\n",
    "    cv_scores = cross_val_score(clf, X, y, cv=5)\n",
    "    print(f\"\\nValidação Cruzada (média): {cv_scores.mean():.4f}\")\n",
    "    print(f\"Relatório de Classificação no Teste:\\n{classification_report(y_test, y_test_pred)}\")"
   ]
  },
  {
   "cell_type": "markdown",
   "metadata": {},
   "source": [
    "# Conjunto 1: Dados sobre obesidade"
   ]
  },
  {
   "cell_type": "code",
   "execution_count": 4,
   "metadata": {},
   "outputs": [],
   "source": [
    "obesity_file = os.path.join(data_path, \"ObesityDataSet_raw_and_data_sinthetic.csv\")\n",
    "obesity_data = pd.read_csv(obesity_file)\n",
    "obesity_data = obesity_data.dropna()  # Removendo valores nulos\n",
    "\n",
    "# Codificando a variável alvo 'NObeyesdad'\n",
    "label_encoder = LabelEncoder()\n",
    "y_obesity = label_encoder.fit_transform(obesity_data[\"NObeyesdad\"])\n",
    "\n",
    "# Selecionando apenas colunas numéricas\n",
    "X_obesity = obesity_data.select_dtypes(include=[np.number])"
   ]
  },
  {
   "cell_type": "markdown",
   "metadata": {},
   "source": [
    "# Conjunto 2: Desempenho estudantil"
   ]
  },
  {
   "cell_type": "code",
   "execution_count": 5,
   "metadata": {},
   "outputs": [],
   "source": [
    "X_student = student_mat.drop(\"G1\", axis=1).select_dtypes(include=[np.number])\n",
    "\n",
    "# Criando faixas para a variável alvo 'G1'\n",
    "bins = [0, 10, 15, 20] \n",
    "labels = [\"Baixo\", \"Médio\", \"Alto\"]\n",
    "y_student = pd.cut(student_mat[\"G1\"], bins=bins, labels=labels)"
   ]
  },
  {
   "cell_type": "markdown",
   "metadata": {},
   "source": [
    "# Avaliação dos dois conjuntos"
   ]
  },
  {
   "cell_type": "code",
   "execution_count": 6,
   "metadata": {},
   "outputs": [
    {
     "name": "stdout",
     "output_type": "stream",
     "text": [
      "\n",
      "--- Avaliação para o conjunto de dados: Obesidade ---\n",
      "Erro no conjunto de treinamento: 0.0000\n",
      "Erro no conjunto de teste: 0.0678\n",
      "Desempenho no conjunto de treinamento (Acurácia): 1.0000\n",
      "Desempenho no conjunto de teste (Acurácia): 0.9322\n",
      "\n",
      "Validação Cruzada (média): 0.9323\n",
      "Relatório de Classificação no Teste:\n",
      "              precision    recall  f1-score   support\n",
      "\n",
      "           0       0.94      0.90      0.92        82\n",
      "           1       0.86      0.86      0.86        86\n",
      "           2       0.90      0.98      0.94       106\n",
      "           3       0.96      0.96      0.96        89\n",
      "           4       1.00      0.97      0.98        97\n",
      "           5       0.90      0.94      0.92        87\n",
      "           6       0.97      0.90      0.93        87\n",
      "\n",
      "    accuracy                           0.93       634\n",
      "   macro avg       0.93      0.93      0.93       634\n",
      "weighted avg       0.93      0.93      0.93       634\n",
      "\n"
     ]
    }
   ],
   "source": [
    "evaluate_decision_tree(X_obesity, y_obesity, \"Obesidade\")"
   ]
  },
  {
   "cell_type": "code",
   "execution_count": 7,
   "metadata": {},
   "outputs": [
    {
     "name": "stdout",
     "output_type": "stream",
     "text": [
      "\n",
      "--- Avaliação para o conjunto de dados: Desempenho Estudantil ---\n",
      "Erro no conjunto de treinamento: 0.0000\n",
      "Erro no conjunto de teste: 0.2773\n",
      "Desempenho no conjunto de treinamento (Acurácia): 1.0000\n",
      "Desempenho no conjunto de teste (Acurácia): 0.7227\n",
      "\n",
      "Validação Cruzada (média): 0.7367\n",
      "Relatório de Classificação no Teste:\n",
      "              precision    recall  f1-score   support\n",
      "\n",
      "        Alto       0.70      0.58      0.64        12\n",
      "       Baixo       0.80      0.74      0.77        58\n",
      "       Médio       0.65      0.73      0.69        49\n",
      "\n",
      "    accuracy                           0.72       119\n",
      "   macro avg       0.72      0.69      0.70       119\n",
      "weighted avg       0.73      0.72      0.72       119\n",
      "\n"
     ]
    }
   ],
   "source": [
    "evaluate_decision_tree(X_student, y_student, \"Desempenho Estudantil\")"
   ]
  }
 ],
 "metadata": {
  "kernelspec": {
   "display_name": "Python 3",
   "language": "python",
   "name": "python3"
  },
  "language_info": {
   "codemirror_mode": {
    "name": "ipython",
    "version": 3
   },
   "file_extension": ".py",
   "mimetype": "text/x-python",
   "name": "python",
   "nbconvert_exporter": "python",
   "pygments_lexer": "ipython3",
   "version": "3.8.10"
  }
 },
 "nbformat": 4,
 "nbformat_minor": 2
}
