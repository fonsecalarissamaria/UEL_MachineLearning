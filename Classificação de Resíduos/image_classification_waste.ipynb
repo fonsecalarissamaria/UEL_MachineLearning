{
 "cells": [
  {
   "cell_type": "markdown",
   "metadata": {},
   "source": [
    "# Importação de bibliotecas essenciais"
   ]
  },
  {
   "cell_type": "code",
   "execution_count": 18,
   "metadata": {},
   "outputs": [],
   "source": [
    "import numpy as np\n",
    "import pandas as pd\n",
    "import os\n",
    "from sklearn.model_selection import train_test_split\n",
    "from sklearn.metrics import classification_report, confusion_matrix\n",
    "from tensorflow.keras.preprocessing.image import load_img, img_to_array\n",
    "from tensorflow.keras.utils import to_categorical\n",
    "from tensorflow.keras.models import Sequential\n",
    "from tensorflow.keras.layers import Conv2D, MaxPooling2D, Flatten, Dense, Dropout\n",
    "from sklearn.ensemble import RandomForestClassifier\n",
    "from sklearn.neighbors import KNeighborsClassifier\n",
    "from sklearn.preprocessing import LabelEncoder\n",
    "import matplotlib.pyplot as plt\n",
    "import seaborn as sns\n",
    "from sklearn.metrics import f1_score\n",
    "\n",
    "# Configuração de estilo de gráficos\n",
    "sns.set(style=\"whitegrid\")"
   ]
  },
  {
   "cell_type": "markdown",
   "metadata": {},
   "source": [
    "# Carregameto e Pré-processamento do Conjunto de Dados"
   ]
  },
  {
   "cell_type": "code",
   "execution_count": 19,
   "metadata": {},
   "outputs": [],
   "source": [
    "data_path = './'\n",
    "classes = [\n",
    "    \"Cardboard\",\n",
    "    \"Food Organics\",\n",
    "    \"Glass\",\n",
    "    \"Metal\",\n",
    "    \"Miscellaneous Trash\",\n",
    "    \"Paper\",\n",
    "    \"Plastic\",\n",
    "    \"Textile Trash\",\n",
    "    \"Vegetation\"\n",
    "]\n",
    "\n",
    "# Função para carregar imagens\n",
    "def load_images_and_labels(data_path, classes, img_size=(128, 128)):\n",
    "    images, labels = [], []\n",
    "    for label in classes:\n",
    "        class_path = os.path.join(data_path, label)\n",
    "        if os.path.isdir(class_path):\n",
    "            for img_file in os.listdir(class_path):\n",
    "                img_path = os.path.join(class_path, img_file)\n",
    "                try:\n",
    "                    img = load_img(img_path, target_size=img_size)\n",
    "                    img_array = img_to_array(img) / 255.0  # Normalização\n",
    "                    images.append(img_array)\n",
    "                    labels.append(label)\n",
    "                except Exception as e:\n",
    "                    print(f\"Erro ao carregar imagem {img_path}: {e}\")\n",
    "    return np.array(images), np.array(labels)\n",
    "\n",
    "# Carregar imagens e rótulos\n",
    "img_size = (128, 128)\n",
    "X, y = load_images_and_labels(data_path, classes, img_size)\n",
    "\n",
    "# Codificar rótulos\n",
    "label_encoder = LabelEncoder()\n",
    "y_encoded = label_encoder.fit_transform(y)\n",
    "y_categorical = to_categorical(y_encoded)  # Para CNN\n",
    "\n",
    "# Dividir os dados\n",
    "X_train, X_temp, y_train, y_temp = train_test_split(X, y_categorical, test_size=0.3, random_state=42)\n",
    "X_val, X_test, y_val, y_test = train_test_split(X_temp, y_temp, test_size=0.5, random_state=42)"
   ]
  },
  {
   "cell_type": "markdown",
   "metadata": {},
   "source": [
    "# Modelo 1: Rede Neural Convolucional Simples"
   ]
  },
  {
   "cell_type": "code",
   "execution_count": 20,
   "metadata": {},
   "outputs": [
    {
     "name": "stderr",
     "output_type": "stream",
     "text": [
      "c:\\USERS\\NATHA\\ONEDRIVE\\DESKTOP\\UEL\\ML\\PROJETO\\Lib\\site-packages\\keras\\src\\layers\\convolutional\\base_conv.py:107: UserWarning: Do not pass an `input_shape`/`input_dim` argument to a layer. When using Sequential models, prefer using an `Input(shape)` object as the first layer in the model instead.\n",
      "  super().__init__(activity_regularizer=activity_regularizer, **kwargs)\n"
     ]
    },
    {
     "name": "stdout",
     "output_type": "stream",
     "text": [
      "Epoch 1/20\n",
      "\u001b[1m104/104\u001b[0m \u001b[32m━━━━━━━━━━━━━━━━━━━━\u001b[0m\u001b[37m\u001b[0m \u001b[1m27s\u001b[0m 245ms/step - accuracy: 0.2155 - loss: 2.4321 - val_accuracy: 0.2791 - val_loss: 1.9825\n",
      "Epoch 2/20\n",
      "\u001b[1m104/104\u001b[0m \u001b[32m━━━━━━━━━━━━━━━━━━━━\u001b[0m\u001b[37m\u001b[0m \u001b[1m39s\u001b[0m 224ms/step - accuracy: 0.3123 - loss: 1.8836 - val_accuracy: 0.4081 - val_loss: 1.7219\n",
      "Epoch 3/20\n",
      "\u001b[1m104/104\u001b[0m \u001b[32m━━━━━━━━━━━━━━━━━━━━\u001b[0m\u001b[37m\u001b[0m \u001b[1m24s\u001b[0m 228ms/step - accuracy: 0.3863 - loss: 1.6844 - val_accuracy: 0.3913 - val_loss: 1.5634\n",
      "Epoch 4/20\n",
      "\u001b[1m104/104\u001b[0m \u001b[32m━━━━━━━━━━━━━━━━━━━━\u001b[0m\u001b[37m\u001b[0m \u001b[1m22s\u001b[0m 216ms/step - accuracy: 0.4249 - loss: 1.5285 - val_accuracy: 0.4250 - val_loss: 1.5249\n",
      "Epoch 5/20\n",
      "\u001b[1m104/104\u001b[0m \u001b[32m━━━━━━━━━━━━━━━━━━━━\u001b[0m\u001b[37m\u001b[0m \u001b[1m24s\u001b[0m 229ms/step - accuracy: 0.4643 - loss: 1.4292 - val_accuracy: 0.4909 - val_loss: 1.4214\n",
      "Epoch 6/20\n",
      "\u001b[1m104/104\u001b[0m \u001b[32m━━━━━━━━━━━━━━━━━━━━\u001b[0m\u001b[37m\u001b[0m \u001b[1m25s\u001b[0m 244ms/step - accuracy: 0.5084 - loss: 1.3049 - val_accuracy: 0.4909 - val_loss: 1.4162\n",
      "Epoch 7/20\n",
      "\u001b[1m104/104\u001b[0m \u001b[32m━━━━━━━━━━━━━━━━━━━━\u001b[0m\u001b[37m\u001b[0m \u001b[1m25s\u001b[0m 235ms/step - accuracy: 0.5510 - loss: 1.1969 - val_accuracy: 0.5778 - val_loss: 1.2326\n",
      "Epoch 8/20\n",
      "\u001b[1m104/104\u001b[0m \u001b[32m━━━━━━━━━━━━━━━━━━━━\u001b[0m\u001b[37m\u001b[0m \u001b[1m24s\u001b[0m 234ms/step - accuracy: 0.6351 - loss: 1.0264 - val_accuracy: 0.5344 - val_loss: 1.3230\n",
      "Epoch 9/20\n",
      "\u001b[1m104/104\u001b[0m \u001b[32m━━━━━━━━━━━━━━━━━━━━\u001b[0m\u001b[37m\u001b[0m \u001b[1m24s\u001b[0m 233ms/step - accuracy: 0.6627 - loss: 0.9143 - val_accuracy: 0.5792 - val_loss: 1.2242\n",
      "Epoch 10/20\n",
      "\u001b[1m104/104\u001b[0m \u001b[32m━━━━━━━━━━━━━━━━━━━━\u001b[0m\u001b[37m\u001b[0m \u001b[1m23s\u001b[0m 221ms/step - accuracy: 0.6995 - loss: 0.8364 - val_accuracy: 0.5694 - val_loss: 1.2161\n",
      "Epoch 11/20\n",
      "\u001b[1m104/104\u001b[0m \u001b[32m━━━━━━━━━━━━━━━━━━━━\u001b[0m\u001b[37m\u001b[0m \u001b[1m23s\u001b[0m 225ms/step - accuracy: 0.7326 - loss: 0.7506 - val_accuracy: 0.5806 - val_loss: 1.2404\n",
      "Epoch 12/20\n",
      "\u001b[1m104/104\u001b[0m \u001b[32m━━━━━━━━━━━━━━━━━━━━\u001b[0m\u001b[37m\u001b[0m \u001b[1m24s\u001b[0m 226ms/step - accuracy: 0.7484 - loss: 0.6540 - val_accuracy: 0.5736 - val_loss: 1.3017\n",
      "Epoch 13/20\n",
      "\u001b[1m104/104\u001b[0m \u001b[32m━━━━━━━━━━━━━━━━━━━━\u001b[0m\u001b[37m\u001b[0m \u001b[1m23s\u001b[0m 220ms/step - accuracy: 0.7907 - loss: 0.5804 - val_accuracy: 0.5666 - val_loss: 1.3311\n",
      "Epoch 14/20\n",
      "\u001b[1m104/104\u001b[0m \u001b[32m━━━━━━━━━━━━━━━━━━━━\u001b[0m\u001b[37m\u001b[0m \u001b[1m23s\u001b[0m 217ms/step - accuracy: 0.7965 - loss: 0.5342 - val_accuracy: 0.5933 - val_loss: 1.4448\n",
      "Epoch 15/20\n",
      "\u001b[1m104/104\u001b[0m \u001b[32m━━━━━━━━━━━━━━━━━━━━\u001b[0m\u001b[37m\u001b[0m \u001b[1m23s\u001b[0m 225ms/step - accuracy: 0.8202 - loss: 0.4543 - val_accuracy: 0.5764 - val_loss: 1.4607\n",
      "Epoch 16/20\n",
      "\u001b[1m104/104\u001b[0m \u001b[32m━━━━━━━━━━━━━━━━━━━━\u001b[0m\u001b[37m\u001b[0m \u001b[1m24s\u001b[0m 229ms/step - accuracy: 0.8364 - loss: 0.4263 - val_accuracy: 0.5947 - val_loss: 1.4300\n",
      "Epoch 17/20\n",
      "\u001b[1m104/104\u001b[0m \u001b[32m━━━━━━━━━━━━━━━━━━━━\u001b[0m\u001b[37m\u001b[0m \u001b[1m23s\u001b[0m 220ms/step - accuracy: 0.8511 - loss: 0.4038 - val_accuracy: 0.5652 - val_loss: 1.5643\n",
      "Epoch 18/20\n",
      "\u001b[1m104/104\u001b[0m \u001b[32m━━━━━━━━━━━━━━━━━━━━\u001b[0m\u001b[37m\u001b[0m \u001b[1m24s\u001b[0m 226ms/step - accuracy: 0.8758 - loss: 0.3490 - val_accuracy: 0.5989 - val_loss: 1.4914\n",
      "Epoch 19/20\n",
      "\u001b[1m104/104\u001b[0m \u001b[32m━━━━━━━━━━━━━━━━━━━━\u001b[0m\u001b[37m\u001b[0m \u001b[1m23s\u001b[0m 226ms/step - accuracy: 0.8935 - loss: 0.3079 - val_accuracy: 0.5905 - val_loss: 1.5917\n",
      "Epoch 20/20\n",
      "\u001b[1m104/104\u001b[0m \u001b[32m━━━━━━━━━━━━━━━━━━━━\u001b[0m\u001b[37m\u001b[0m \u001b[1m24s\u001b[0m 228ms/step - accuracy: 0.8815 - loss: 0.3083 - val_accuracy: 0.5919 - val_loss: 1.6285\n",
      "\u001b[1m23/23\u001b[0m \u001b[32m━━━━━━━━━━━━━━━━━━━━\u001b[0m\u001b[37m\u001b[0m \u001b[1m1s\u001b[0m 51ms/step - accuracy: 0.6090 - loss: 1.6666\n",
      "Teste CNN - Perda: 1.6588951349258423, Acurácia: 0.6086956262588501\n",
      "\u001b[1m23/23\u001b[0m \u001b[32m━━━━━━━━━━━━━━━━━━━━\u001b[0m\u001b[37m\u001b[0m \u001b[1m1s\u001b[0m 57ms/step\n",
      "F1-score (média ponderada): 0.5990025478429196\n"
     ]
    }
   ],
   "source": [
    "def create_simple_cnn(input_shape, num_classes):\n",
    "    model = Sequential([\n",
    "        Conv2D(32, (3, 3), activation='relu', input_shape=input_shape),\n",
    "        MaxPooling2D((2, 2)),\n",
    "        Conv2D(64, (3, 3), activation='relu'),\n",
    "        MaxPooling2D((2, 2)),\n",
    "        Flatten(),\n",
    "        Dense(128, activation='relu'),\n",
    "        Dropout(0.5),\n",
    "        Dense(num_classes, activation='softmax')\n",
    "    ])\n",
    "    model.compile(optimizer='adam', loss='categorical_crossentropy', metrics=['accuracy'])\n",
    "    return model\n",
    "\n",
    "# Treinamento CNN\n",
    "input_shape = X_train.shape[1:]\n",
    "num_classes = y_train.shape[1]\n",
    "cnn_model = create_simple_cnn(input_shape, num_classes)\n",
    "history_cnn = cnn_model.fit(X_train, y_train, validation_data=(X_val, y_val), epochs=20, batch_size=32)\n",
    "\n",
    "# Avaliação CNN\n",
    "cnn_test_loss, cnn_test_acc = cnn_model.evaluate(X_test, y_test)\n",
    "print(f\"Teste CNN - Perda: {cnn_test_loss}, Acurácia: {cnn_test_acc}\")\n",
    "\n",
    "\n",
    "\n",
    "y_pred = cnn_model.predict(X_test)\n",
    "\n",
    "# Converter previsões e rótulos verdadeiros de one-hot encoding para rótulos de classe\n",
    "y_pred_classes = np.argmax(y_pred, axis=1)\n",
    "y_true_classes = np.argmax(y_test, axis=1)\n",
    "\n",
    "# Calcular o F1-score\n",
    "f1 = f1_score(y_true_classes, y_pred_classes, average='weighted')\n",
    "print(f\"F1-score : {f1}\")"
   ]
  },
  {
   "cell_type": "markdown",
   "metadata": {},
   "source": [
    "# Modelo 2: K-Nearest Neighbors (KNN)"
   ]
  },
  {
   "cell_type": "code",
   "execution_count": 21,
   "metadata": {},
   "outputs": [
    {
     "name": "stdout",
     "output_type": "stream",
     "text": [
      "Acurácia do KNN: 0.3450210378681627\n",
      "                     precision    recall  f1-score   support\n",
      "\n",
      "          Cardboard       0.32      0.27      0.29        78\n",
      "      Food Organics       0.62      0.09      0.16        56\n",
      "              Glass       0.20      0.80      0.33        56\n",
      "              Metal       0.48      0.46      0.47       118\n",
      "Miscellaneous Trash       0.31      0.28      0.29        72\n",
      "              Paper       0.67      0.38      0.49        81\n",
      "            Plastic       0.36      0.50      0.42       130\n",
      "      Textile Trash       0.38      0.11      0.17        46\n",
      "         Vegetation       0.00      0.00      0.00        76\n",
      "\n",
      "           accuracy                           0.35       713\n",
      "          macro avg       0.37      0.32      0.29       713\n",
      "       weighted avg       0.38      0.35      0.32       713\n",
      "\n"
     ]
    },
    {
     "name": "stderr",
     "output_type": "stream",
     "text": [
      "c:\\USERS\\NATHA\\ONEDRIVE\\DESKTOP\\UEL\\ML\\PROJETO\\Lib\\site-packages\\sklearn\\metrics\\_classification.py:1565: UndefinedMetricWarning: Precision is ill-defined and being set to 0.0 in labels with no predicted samples. Use `zero_division` parameter to control this behavior.\n",
      "  _warn_prf(average, modifier, f\"{metric.capitalize()} is\", len(result))\n",
      "c:\\USERS\\NATHA\\ONEDRIVE\\DESKTOP\\UEL\\ML\\PROJETO\\Lib\\site-packages\\sklearn\\metrics\\_classification.py:1565: UndefinedMetricWarning: Precision is ill-defined and being set to 0.0 in labels with no predicted samples. Use `zero_division` parameter to control this behavior.\n",
      "  _warn_prf(average, modifier, f\"{metric.capitalize()} is\", len(result))\n",
      "c:\\USERS\\NATHA\\ONEDRIVE\\DESKTOP\\UEL\\ML\\PROJETO\\Lib\\site-packages\\sklearn\\metrics\\_classification.py:1565: UndefinedMetricWarning: Precision is ill-defined and being set to 0.0 in labels with no predicted samples. Use `zero_division` parameter to control this behavior.\n",
      "  _warn_prf(average, modifier, f\"{metric.capitalize()} is\", len(result))\n"
     ]
    }
   ],
   "source": [
    "# Transformar dados para 1D\n",
    "X_flat = X.reshape(X.shape[0], -1)\n",
    "X_train_knn, X_temp_knn, y_train_knn, y_temp_knn = train_test_split(X_flat, y_encoded, test_size=0.3, random_state=42)\n",
    "X_val_knn, X_test_knn, y_val_knn, y_test_knn = train_test_split(X_temp_knn, y_temp_knn, test_size=0.5, random_state=42)\n",
    "\n",
    "# Treinamento do KNN\n",
    "knn_model = KNeighborsClassifier(n_neighbors=5)\n",
    "knn_model.fit(X_train_knn, y_train_knn)\n",
    "\n",
    "# Avaliação do KNN\n",
    "knn_y_pred = knn_model.predict(X_test_knn)\n",
    "knn_accuracy = np.mean(knn_y_pred == y_test_knn)\n",
    "print(f\"Acurácia do KNN: {knn_accuracy}\")\n",
    "print(classification_report(y_test_knn, knn_y_pred, target_names=label_encoder.classes_))"
   ]
  },
  {
   "cell_type": "markdown",
   "metadata": {},
   "source": [
    "# Modelo 3: Random Forest"
   ]
  },
  {
   "cell_type": "code",
   "execution_count": 22,
   "metadata": {},
   "outputs": [
    {
     "name": "stdout",
     "output_type": "stream",
     "text": [
      "Acurácia do Random Forest: 0.6072931276297335\n",
      "                     precision    recall  f1-score   support\n",
      "\n",
      "          Cardboard       0.78      0.64      0.70        78\n",
      "      Food Organics       0.61      0.30      0.40        56\n",
      "              Glass       0.72      0.59      0.65        56\n",
      "              Metal       0.55      0.71      0.62       118\n",
      "Miscellaneous Trash       0.43      0.32      0.37        72\n",
      "              Paper       0.71      0.63      0.67        81\n",
      "            Plastic       0.60      0.79      0.68       130\n",
      "      Textile Trash       0.56      0.22      0.31        46\n",
      "         Vegetation       0.58      0.82      0.68        76\n",
      "\n",
      "           accuracy                           0.61       713\n",
      "          macro avg       0.61      0.56      0.56       713\n",
      "       weighted avg       0.61      0.61      0.59       713\n",
      "\n"
     ]
    }
   ],
   "source": [
    "# Treinamento do Random Forest\n",
    "rf_model = RandomForestClassifier(n_estimators=100, random_state=42)\n",
    "rf_model.fit(X_train_knn, y_train_knn)\n",
    "\n",
    "# Avaliação do Random Forest\n",
    "rf_y_pred = rf_model.predict(X_test_knn)\n",
    "rf_accuracy = np.mean(rf_y_pred == y_test_knn)\n",
    "print(f\"Acurácia do Random Forest: {rf_accuracy}\")\n",
    "print(classification_report(y_test_knn, rf_y_pred, target_names=label_encoder.classes_))"
   ]
  },
  {
   "cell_type": "markdown",
   "metadata": {},
   "source": [
    "# Análise Comparativa dos Resultados"
   ]
  },
  {
   "cell_type": "code",
   "execution_count": 23,
   "metadata": {},
   "outputs": [
    {
     "data": {
      "image/png": "[encoded data removed]",
      "text/plain": [
       "<Figure size 640x480 with 1 Axes>"
      ]
     },
     "metadata": {},
     "output_type": "display_data"
    }
   ],
   "source": [
    "methods = ['CNN', 'KNN', 'Random Forest']\n",
    "accuracies = [cnn_test_acc, knn_accuracy, rf_accuracy]\n",
    "\n",
    "plt.bar(methods, accuracies, color=['blue', 'green', 'orange'])\n",
    "plt.ylabel('Acurácia')\n",
    "plt.title('Comparação de Desempenho dos Modelos')\n",
    "plt.show()"
   ]
  },
  {
   "cell_type": "markdown",
   "metadata": {},
   "source": [
    "# Salvando Resultados e Modelos"
   ]
  },
  {
   "cell_type": "code",
   "execution_count": 24,
   "metadata": {},
   "outputs": [],
   "source": [
    "cnn_model.save('cnn_realwaste_model.keras')"
   ]
  }
 ],
 "metadata": {
  "kernelspec": {
   "display_name": "PROJETO",
   "language": "python",
   "name": "python3"
  },
  "language_info": {
   "codemirror_mode": {
    "name": "ipython",
    "version": 3
   },
   "file_extension": ".py",
   "mimetype": "text/x-python",
   "name": "python",
   "nbconvert_exporter": "python",
   "pygments_lexer": "ipython3",
   "version": "3.12.8"
  }
 },
 "nbformat": 4,
 "nbformat_minor": 2
}
